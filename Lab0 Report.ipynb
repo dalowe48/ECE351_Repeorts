{
 "cells": [
  {
   "cell_type": "markdown",
   "metadata": {},
   "source": [
    "\n",
    "David Lowe\n",
    "\n",
    "ECE351 52\n",
    "\n",
    "Lab 0\n",
    "\n",
    "Due 9/4/19\n",
    "\n",
    "1. What did I do over the Summer?\n",
    "\n",
    "I worked at SEL Lewiston as a proccess engineering Intern.\n",
    "\n",
    "\n",
    "2. What do I personally want to get out of this lab?\n",
    "\n",
    "I want to become comfortable coding with Python."
   ]
  },
  {
   "cell_type": "code",
   "execution_count": null,
   "metadata": {},
   "outputs": [],
   "source": []
  }
 ],
 "metadata": {
  "kernelspec": {
   "display_name": "Python 3",
   "language": "python",
   "name": "python3"
  },
  "language_info": {
   "codemirror_mode": {
    "name": "ipython",
    "version": 3
   },
   "file_extension": ".py",
   "mimetype": "text/x-python",
   "name": "python",
   "nbconvert_exporter": "python",
   "pygments_lexer": "ipython3",
   "version": "3.7.3"
  }
 },
 "nbformat": 4,
 "nbformat_minor": 2
}
